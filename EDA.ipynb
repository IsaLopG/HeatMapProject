{
 "cells": [
  {
   "cell_type": "markdown",
   "id": "b1facf76",
   "metadata": {},
   "source": [
    "First EDA"
   ]
  },
  {
   "cell_type": "markdown",
   "id": "948667db",
   "metadata": {},
   "source": [
    "First Modification To see if it works"
   ]
  }
 ],
 "metadata": {
  "language_info": {
   "name": "python"
  }
 },
 "nbformat": 4,
 "nbformat_minor": 5
}
